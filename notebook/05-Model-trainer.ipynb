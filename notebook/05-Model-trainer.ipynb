{
 "cells": [
  {
   "cell_type": "code",
   "execution_count": 1,
   "metadata": {},
   "outputs": [],
   "source": [
    "import os\n",
    "os.chdir(\"../\")"
   ]
  },
  {
   "cell_type": "code",
   "execution_count": 2,
   "metadata": {},
   "outputs": [],
   "source": [
    "from dataclasses import dataclass\n",
    "from pathlib import Path"
   ]
  },
  {
   "cell_type": "code",
   "execution_count": 3,
   "metadata": {},
   "outputs": [],
   "source": [
    "@dataclass(frozen=True)\n",
    "class ModelTrainerConfig:\n",
    "    root_dir: Path\n",
    "    train_data_path: Path\n",
    "    test_data_path: Path\n",
    "    model_name: str\n",
    "    n_estimators: int\n",
    "    criterion: str\n",
    "    max_features: str\n",
    "    max_depth: int\n",
    "    min_samples_leaf: int\n",
    "    min_samples_split: int\n",
    "    target_column: str"
   ]
  },
  {
   "cell_type": "code",
   "execution_count": 4,
   "metadata": {},
   "outputs": [],
   "source": [
    "from src.mlReg.constants import *\n",
    "from src.mlReg.utils.common import read_yaml, create_directories"
   ]
  },
  {
   "cell_type": "code",
   "execution_count": 5,
   "metadata": {},
   "outputs": [],
   "source": [
    "class ConfigurationManager:\n",
    "    def __init__(\n",
    "            self,\n",
    "            config_filepath = Config_File_Path,\n",
    "            params_filepath = Params_File_Path,\n",
    "            schema_filepath = Schema_File_Path\n",
    "    ):\n",
    "        self.config = read_yaml(config_filepath)\n",
    "        self.params = read_yaml(params_filepath)\n",
    "        self.schema = read_yaml(schema_filepath)\n",
    "\n",
    "        create_directories([self.config.artifacts_root])\n",
    "    \n",
    "    def get_model_trainer_config(self) -> ModelTrainerConfig:\n",
    "        config = self.config.model_trainer\n",
    "        dt_params = self.params.RandomForestRegressor\n",
    "        schema = self.schema.TARGET_COLUMN\n",
    "\n",
    "        create_directories([config.root_dir])\n",
    "\n",
    "        model_trainer_config = ModelTrainerConfig(\n",
    "            root_dir= config.root_dir,\n",
    "            train_data_path= config.train_data_path,\n",
    "            test_data_path= config.test_data_path,\n",
    "            model_name= config.model_name,\n",
    "            n_estimators = dt_params.n_estimators,\n",
    "            criterion= dt_params.criterion,\n",
    "            max_features= dt_params.max_features,\n",
    "            max_depth= dt_params.max_depth,\n",
    "            min_samples_leaf= dt_params.min_samples_leaf,\n",
    "            min_samples_split= dt_params.min_samples_split,\n",
    "            target_column= schema.name\n",
    "        )\n",
    "\n",
    "        return model_trainer_config"
   ]
  },
  {
   "cell_type": "code",
   "execution_count": 6,
   "metadata": {},
   "outputs": [],
   "source": [
    "import pandas as pd\n",
    "import os\n",
    "import joblib\n",
    "\n",
    "from sklearn.ensemble import RandomForestRegressor\n",
    "from src.mlReg.utils.logger import logger"
   ]
  },
  {
   "cell_type": "code",
   "execution_count": 7,
   "metadata": {},
   "outputs": [],
   "source": [
    "class ModelTrainer:\n",
    "    def __init__(self, config: ModelTrainerConfig):\n",
    "        self.config = config\n",
    "    \n",
    "    def training(self):\n",
    "        train_data = pd.read_csv(self.config.train_data_path)\n",
    "        test_data = pd.read_csv(self.config.test_data_path)\n",
    "\n",
    "        X_train = train_data.drop([self.config.target_column], axis=1)\n",
    "        X_test = test_data.drop([self.config.target_column], axis=1)\n",
    "        y_train = train_data[self.config.target_column]\n",
    "        y_test = test_data[self.config.target_column]\n",
    "\n",
    "        dt = RandomForestRegressor(n_estimators=self.config.n_estimators, criterion= self.config.criterion, max_features= self.config.max_features,\n",
    "                                   max_depth= self.config.max_depth, min_samples_leaf= self.config.min_samples_leaf, \n",
    "                                   min_samples_split= self.config.min_samples_split)\n",
    "        dt.fit(X_train, y_train)\n",
    "\n",
    "        joblib.dump(dt, os.path.join(self.config.root_dir, self.config.model_name))"
   ]
  },
  {
   "cell_type": "code",
   "execution_count": 8,
   "metadata": {},
   "outputs": [
    {
     "name": "stdout",
     "output_type": "stream",
     "text": [
      "[ [2024-03-11 16:13:28,323] : INFO : common : yaml file: config\\config.yaml loaded successfully ]\n",
      "[ [2024-03-11 16:13:28,423] : INFO : common : yaml file: params.yaml loaded successfully ]\n",
      "[ [2024-03-11 16:13:28,510] : INFO : common : yaml file: schema.yaml loaded successfully ]\n",
      "[ [2024-03-11 16:13:28,523] : INFO : common : created directory at: artifacts ]\n",
      "[ [2024-03-11 16:13:28,543] : INFO : common : created directory at: artifacts/model_trainer ]\n"
     ]
    }
   ],
   "source": [
    "try:\n",
    "    config = ConfigurationManager()\n",
    "    model_trainer_config = config.get_model_trainer_config()\n",
    "    model_trainer = ModelTrainer(config= model_trainer_config)\n",
    "    model_trainer.training()\n",
    "except Exception as e:\n",
    "    raise e"
   ]
  },
  {
   "cell_type": "code",
   "execution_count": null,
   "metadata": {},
   "outputs": [],
   "source": []
  }
 ],
 "metadata": {
  "kernelspec": {
   "display_name": "myENV",
   "language": "python",
   "name": "python3"
  },
  "language_info": {
   "codemirror_mode": {
    "name": "ipython",
    "version": 3
   },
   "file_extension": ".py",
   "mimetype": "text/x-python",
   "name": "python",
   "nbconvert_exporter": "python",
   "pygments_lexer": "ipython3",
   "version": "3.8.10"
  }
 },
 "nbformat": 4,
 "nbformat_minor": 2
}
